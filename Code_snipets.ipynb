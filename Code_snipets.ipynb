{
  "nbformat": 4,
  "nbformat_minor": 0,
  "metadata": {
    "colab": {
      "name": "Code_snipets.ipynb",
      "provenance": [],
      "authorship_tag": "ABX9TyOv5h/wjOWfSZR5vZXYLbzp",
      "include_colab_link": true
    },
    "kernelspec": {
      "name": "python3",
      "display_name": "Python 3"
    },
    "language_info": {
      "name": "python"
    }
  },
  "cells": [
    {
      "cell_type": "markdown",
      "metadata": {
        "id": "view-in-github",
        "colab_type": "text"
      },
      "source": [
        "<a href=\"https://colab.research.google.com/github/yanncoadou/MLtutorials/blob/main/Code_snipets.ipynb\" target=\"_parent\"><img src=\"https://colab.research.google.com/assets/colab-badge.svg\" alt=\"Open In Colab\"/></a>"
      ]
    },
    {
      "cell_type": "markdown",
      "metadata": {
        "id": "eZyytG4-KxzR"
      },
      "source": [
        "<h1>Collected bits and pieces</h1>"
      ]
    },
    {
      "cell_type": "markdown",
      "metadata": {
        "id": "32ILMDM7LOPj"
      },
      "source": [
        "# Plot training and validation curves with uncertainty from CV"
      ]
    },
    {
      "cell_type": "code",
      "metadata": {
        "colab": {
          "base_uri": "https://localhost:8080/",
          "height": 297
        },
        "id": "CpFSsh9AMza-",
        "outputId": "053ec3bf-41cd-4eeb-ee86-6799b5ff64ba"
      },
      "source": [
        "from sklearn.model_selection import validation_curve\n",
        "\n",
        "# Evaluate parameter range in CV\n",
        "param_range = [10,50,100,200,400,1000,1500] #range(1, 400)\n",
        "param_name = \"n_estimators\"\n",
        "\n",
        "train_scores, test_scores = validation_curve(\n",
        "    RandomForestClassifier(), X, y, \n",
        "    param_name=param_name, \n",
        "    param_range=param_range, cv=3, n_jobs=-1)\n",
        "\n",
        "train_scores_mean = np.mean(train_scores, axis=1)\n",
        "train_scores_std = np.std(train_scores, axis=1)\n",
        "test_scores_mean = np.mean(test_scores, axis=1)\n",
        "test_scores_std = np.std(test_scores, axis=1)\n",
        "\n",
        "# Plot parameter VS estimated error\n",
        "plt.xlabel(param_name)\n",
        "plt.ylabel(\"score\")\n",
        "plt.xlim(min(param_range), max(param_range))\n",
        "plt.plot(param_range, 1. - train_scores_mean, color=\"red\", label=\"Training error\")\n",
        "plt.fill_between(param_range, \n",
        "                 1. - train_scores_mean + train_scores_std,\n",
        "                 1. - train_scores_mean - train_scores_std,\n",
        "                 alpha=0.2, color=\"red\")\n",
        "plt.plot(param_range, 1. - test_scores_mean, color=\"blue\", label=\"CV error\")\n",
        "plt.fill_between(param_range, \n",
        "                 1. - test_scores_mean + test_scores_std,\n",
        "                 1. - test_scores_mean - test_scores_std, \n",
        "                 alpha=0.2, color=\"blue\")\n",
        "plt.legend(loc=\"best\")"
      ],
      "execution_count": null,
      "outputs": [
        {
          "output_type": "execute_result",
          "data": {
            "text/plain": [
              "<matplotlib.legend.Legend at 0x7fb884038350>"
            ]
          },
          "metadata": {},
          "execution_count": 149
        },
        {
          "output_type": "display_data",
          "data": {
            "image/png": "[encoded data removed]",
            "text/plain": [
              "<Figure size 432x288 with 1 Axes>"
            ]
          },
          "metadata": {
            "needs_background": "light"
          }
        }
      ]
    },
    {
      "cell_type": "markdown",
      "metadata": {
        "id": "6R606WhZ9lGt"
      },
      "source": [
        "### Learning curve\n",
        "Compute the AUC by varying the number of training event. Testing set remains the same."
      ]
    },
    {
      "cell_type": "code",
      "metadata": {
        "colab": {
          "base_uri": "https://localhost:8080/",
          "height": 391
        },
        "id": "P2FGlKG6yjy-",
        "outputId": "093d3268-5260-4b3d-eda8-ed634b141c49"
      },
      "source": [
        "#In principle could, use learning_curve in sklearn\n",
        "#However: it does not handle weights, it does not allow to control testing dataset size\n",
        "#from sklearn.model_selection import learning_curve\n",
        "#train_sizes,train_scores,test_scores=learning_curve(\n",
        "#     RandomForestClassifier(n_estimators=100),\n",
        "#     X_train,y_train,\n",
        "#     train_sizes=[0.01,0.05,0.1,0.2,0.5,0.75,1],                  \n",
        "#     scoring='roc_auc',cv=5)\n",
        "\n",
        "\n",
        "train_sizes=[0.01,0.05,0.1,0.2,0.5,0.75,1]\n",
        "ntrains=[]\n",
        "test_aucs=[]\n",
        "train_aucs=[]\n",
        "\n",
        "for train_size in train_sizes:\n",
        "  ntrain=int(len(X_train)*train_size)\n",
        "  print(\"training with \",ntrain,\" events\")\n",
        "  ntrains+=[ntrain]\n",
        "\n",
        "  # train using the first ntrain event of the training dataset\n",
        "  model.fit(X_train[:ntrain], y_train[:ntrain],\n",
        "            epochs=100, verbose=0,\n",
        "            #validation_split=0.2,   # to be used with train/test split\n",
        "            validation_data=(X_val, y_val, weights_val),\n",
        "            batch_size=1024,\n",
        "            sample_weight=weights_train[:ntrain].values,\n",
        "            callbacks=[keras.callbacks.EarlyStopping(patience=10, restore_best_weights=True)])\n",
        "\n",
        "  # score on test dataset (always the same)\n",
        "  y_pred_model=model.predict(X_test).reshape(-1)\n",
        "  auc_test_model = roc_auc_score(y_true=y_test, y_score=y_pred_model,sample_weight=weights_test)\n",
        "  test_aucs+=[auc_test_model]\n",
        "\n",
        "  # score on the train dataset \n",
        "  y_train_model=model.predict(X_train[:ntrain]).reshape(-1)\n",
        "  auc_train_model = roc_auc_score(y_true=y_train[:ntrain], y_score=y_train_model,sample_weight=weights_train[:ntrain])\n",
        "  train_aucs+=[auc_train_model]\n",
        "\n",
        "dflearning=pd.DataFrame({\"Ntraining\":ntrains,\n",
        "                         \"test_auc\":test_aucs,\n",
        "                         \"train_auc\":train_aucs})\n",
        "display(dflearning)"
      ],
      "execution_count": null,
      "outputs": [
        {
          "output_type": "stream",
          "text": [
            "training with  3464  events\n",
            "training with  17320  events\n",
            "training with  34641  events\n",
            "training with  69282  events\n",
            "training with  173206  events\n",
            "training with  259809  events\n",
            "training with  346413  events\n"
          ],
          "name": "stdout"
        },
        {
          "output_type": "display_data",
          "data": {
            "text/html": [
              "<div>\n",
              "<style scoped>\n",
              "    .dataframe tbody tr th:only-of-type {\n",
              "        vertical-align: middle;\n",
              "    }\n",
              "\n",
              "    .dataframe tbody tr th {\n",
              "        vertical-align: top;\n",
              "    }\n",
              "\n",
              "    .dataframe thead th {\n",
              "        text-align: right;\n",
              "    }\n",
              "</style>\n",
              "<table border=\"1\" class=\"dataframe\">\n",
              "  <thead>\n",
              "    <tr style=\"text-align: right;\">\n",
              "      <th></th>\n",
              "      <th>Ntraining</th>\n",
              "      <th>test_auc</th>\n",
              "      <th>train_auc</th>\n",
              "    </tr>\n",
              "  </thead>\n",
              "  <tbody>\n",
              "    <tr>\n",
              "      <th>0</th>\n",
              "      <td>3464</td>\n",
              "      <td>0.862549</td>\n",
              "      <td>0.880622</td>\n",
              "    </tr>\n",
              "    <tr>\n",
              "      <th>1</th>\n",
              "      <td>17320</td>\n",
              "      <td>0.862739</td>\n",
              "      <td>0.873433</td>\n",
              "    </tr>\n",
              "    <tr>\n",
              "      <th>2</th>\n",
              "      <td>34641</td>\n",
              "      <td>0.863364</td>\n",
              "      <td>0.872173</td>\n",
              "    </tr>\n",
              "    <tr>\n",
              "      <th>3</th>\n",
              "      <td>69282</td>\n",
              "      <td>0.864457</td>\n",
              "      <td>0.869589</td>\n",
              "    </tr>\n",
              "    <tr>\n",
              "      <th>4</th>\n",
              "      <td>173206</td>\n",
              "      <td>0.864695</td>\n",
              "      <td>0.866831</td>\n",
              "    </tr>\n",
              "    <tr>\n",
              "      <th>5</th>\n",
              "      <td>259809</td>\n",
              "      <td>0.866288</td>\n",
              "      <td>0.868378</td>\n",
              "    </tr>\n",
              "    <tr>\n",
              "      <th>6</th>\n",
              "      <td>346413</td>\n",
              "      <td>0.870936</td>\n",
              "      <td>0.872183</td>\n",
              "    </tr>\n",
              "  </tbody>\n",
              "</table>\n",
              "</div>"
            ],
            "text/plain": [
              "   Ntraining  test_auc  train_auc\n",
              "0       3464  0.862549   0.880622\n",
              "1      17320  0.862739   0.873433\n",
              "2      34641  0.863364   0.872173\n",
              "3      69282  0.864457   0.869589\n",
              "4     173206  0.864695   0.866831\n",
              "5     259809  0.866288   0.868378\n",
              "6     346413  0.870936   0.872183"
            ]
          },
          "metadata": {}
        }
      ]
    },
    {
      "cell_type": "code",
      "metadata": {
        "colab": {
          "base_uri": "https://localhost:8080/",
          "height": 296
        },
        "id": "05-B7ImAzPR0",
        "outputId": "7101dc44-bea2-4b86-bfda-956991e8d4c3"
      },
      "source": [
        "ax=dflearning.plot.scatter(\"Ntraining\",\"test_auc\",label=\"test\")\n",
        "dflearning.plot.scatter(\"Ntraining\",\"train_auc\",label=\"train\",color=\"r\",ax=ax)"
      ],
      "execution_count": null,
      "outputs": [
        {
          "output_type": "execute_result",
          "data": {
            "text/plain": [
              "<matplotlib.axes._subplots.AxesSubplot at 0x7f12d2410690>"
            ]
          },
          "metadata": {},
          "execution_count": 60
        },
        {
          "output_type": "display_data",
          "data": {
            "image/png": "[encoded data removed]",
            "text/plain": [
              "<Figure size 432x288 with 1 Axes>"
            ]
          },
          "metadata": {
            "needs_background": "light"
          }
        }
      ]
    }
  ]
}