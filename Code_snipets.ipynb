{
  "nbformat": 4,
  "nbformat_minor": 0,
  "metadata": {
    "colab": {
      "name": "Code snipets.ipynb",
      "provenance": [],
      "authorship_tag": "ABX9TyNHVN2N26QYZl5GFLq772QI",
      "include_colab_link": true
    },
    "kernelspec": {
      "name": "python3",
      "display_name": "Python 3"
    },
    "language_info": {
      "name": "python"
    }
  },
  "cells": [
    {
      "cell_type": "markdown",
      "metadata": {
        "id": "view-in-github",
        "colab_type": "text"
      },
      "source": [
        "<a href=\"https://colab.research.google.com/github/yanncoadou/MLtutorials/blob/main/Code_snipets.ipynb\" target=\"_parent\"><img src=\"https://colab.research.google.com/assets/colab-badge.svg\" alt=\"Open In Colab\"/></a>"
      ]
    },
    {
      "cell_type": "markdown",
      "metadata": {
        "id": "eZyytG4-KxzR"
      },
      "source": [
        "<h1>Collected bits and pieces</h1>"
      ]
    },
    {
      "cell_type": "markdown",
      "metadata": {
        "id": "32ILMDM7LOPj"
      },
      "source": [
        "# Plot training and validation curves with uncertainty from CV"
      ]
    },
    {
      "cell_type": "code",
      "metadata": {
        "colab": {
          "base_uri": "https://localhost:8080/",
          "height": 297
        },
        "id": "CpFSsh9AMza-",
        "outputId": "053ec3bf-41cd-4eeb-ee86-6799b5ff64ba"
      },
      "source": [
        "from sklearn.model_selection import validation_curve\n",
        "\n",
        "# Evaluate parameter range in CV\n",
        "param_range = [10,50,100,200,400,1000,1500] #range(1, 400)\n",
        "param_name = \"n_estimators\"\n",
        "\n",
        "train_scores, test_scores = validation_curve(\n",
        "    RandomForestClassifier(), X, y, \n",
        "    param_name=param_name, \n",
        "    param_range=param_range, cv=3, n_jobs=-1)\n",
        "\n",
        "train_scores_mean = np.mean(train_scores, axis=1)\n",
        "train_scores_std = np.std(train_scores, axis=1)\n",
        "test_scores_mean = np.mean(test_scores, axis=1)\n",
        "test_scores_std = np.std(test_scores, axis=1)\n",
        "\n",
        "# Plot parameter VS estimated error\n",
        "plt.xlabel(param_name)\n",
        "plt.ylabel(\"score\")\n",
        "plt.xlim(min(param_range), max(param_range))\n",
        "plt.plot(param_range, 1. - train_scores_mean, color=\"red\", label=\"Training error\")\n",
        "plt.fill_between(param_range, \n",
        "                 1. - train_scores_mean + train_scores_std,\n",
        "                 1. - train_scores_mean - train_scores_std,\n",
        "                 alpha=0.2, color=\"red\")\n",
        "plt.plot(param_range, 1. - test_scores_mean, color=\"blue\", label=\"CV error\")\n",
        "plt.fill_between(param_range, \n",
        "                 1. - test_scores_mean + test_scores_std,\n",
        "                 1. - test_scores_mean - test_scores_std, \n",
        "                 alpha=0.2, color=\"blue\")\n",
        "plt.legend(loc=\"best\")"
      ],
      "execution_count": null,
      "outputs": [
        {
          "output_type": "execute_result",
          "data": {
            "text/plain": [
              "<matplotlib.legend.Legend at 0x7fb884038350>"
            ]
          },
          "metadata": {},
          "execution_count": 149
        },
        {
          "output_type": "display_data",
          "data": {
            "image/png": "[encoded data removed]",
            "text/plain": [
              "<Figure size 432x288 with 1 Axes>"
            ]
          },
          "metadata": {
            "needs_background": "light"
          }
        }
      ]
    }
  ]
}