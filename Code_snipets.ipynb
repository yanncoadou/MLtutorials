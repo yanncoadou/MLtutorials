{
  "nbformat": 4,
  "nbformat_minor": 0,
  "metadata": {
    "colab": {
      "name": "Code_snipets.ipynb",
      "provenance": [],
      "toc_visible": true,
      "authorship_tag": "ABX9TyOBkp2hywq/yRKNZh1ALRat",
      "include_colab_link": true
    },
    "kernelspec": {
      "name": "python3",
      "display_name": "Python 3"
    },
    "language_info": {
      "name": "python"
    }
  },
  "cells": [
    {
      "cell_type": "markdown",
      "metadata": {
        "id": "view-in-github",
        "colab_type": "text"
      },
      "source": [
        "<a href=\"https://colab.research.google.com/github/yanncoadou/MLtutorials/blob/main/Code_snipets.ipynb\" target=\"_parent\"><img src=\"https://colab.research.google.com/assets/colab-badge.svg\" alt=\"Open In Colab\"/></a>"
      ]
    },
    {
      "cell_type": "markdown",
      "metadata": {
        "id": "eZyytG4-KxzR"
      },
      "source": [
        "<h1>Collected bits and pieces</h1>"
      ]
    },
    {
      "cell_type": "markdown",
      "metadata": {
        "id": "32ILMDM7LOPj"
      },
      "source": [
        "# Plot training and validation curves with uncertainty from CV"
      ]
    },
    {
      "cell_type": "code",
      "metadata": {
        "colab": {
          "base_uri": "https://localhost:8080/",
          "height": 297
        },
        "id": "CpFSsh9AMza-",
        "outputId": "053ec3bf-41cd-4eeb-ee86-6799b5ff64ba"
      },
      "source": [
        "from sklearn.model_selection import validation_curve\n",
        "\n",
        "# Evaluate parameter range in CV\n",
        "param_range = [10,50,100,200,400,1000,1500] #range(1, 400)\n",
        "param_name = \"n_estimators\"\n",
        "\n",
        "train_scores, test_scores = validation_curve(\n",
        "    RandomForestClassifier(), X, y, \n",
        "    param_name=param_name, \n",
        "    param_range=param_range, cv=3, n_jobs=-1)\n",
        "\n",
        "train_scores_mean = np.mean(train_scores, axis=1)\n",
        "train_scores_std = np.std(train_scores, axis=1)\n",
        "test_scores_mean = np.mean(test_scores, axis=1)\n",
        "test_scores_std = np.std(test_scores, axis=1)\n",
        "\n",
        "# Plot parameter VS estimated error\n",
        "plt.xlabel(param_name)\n",
        "plt.ylabel(\"score\")\n",
        "plt.xlim(min(param_range), max(param_range))\n",
        "plt.plot(param_range, 1. - train_scores_mean, color=\"red\", label=\"Training error\")\n",
        "plt.fill_between(param_range, \n",
        "                 1. - train_scores_mean + train_scores_std,\n",
        "                 1. - train_scores_mean - train_scores_std,\n",
        "                 alpha=0.2, color=\"red\")\n",
        "plt.plot(param_range, 1. - test_scores_mean, color=\"blue\", label=\"CV error\")\n",
        "plt.fill_between(param_range, \n",
        "                 1. - test_scores_mean + test_scores_std,\n",
        "                 1. - test_scores_mean - test_scores_std, \n",
        "                 alpha=0.2, color=\"blue\")\n",
        "plt.legend(loc=\"best\")"
      ],
      "execution_count": null,
      "outputs": [
        {
          "output_type": "execute_result",
          "data": {
            "text/plain": [
              "<matplotlib.legend.Legend at 0x7fb884038350>"
            ]
          },
          "metadata": {},
          "execution_count": 149
        },
        {
          "output_type": "display_data",
          "data": {
            "image/png": "[encoded data removed]",
            "text/plain": [
              "<Figure size 432x288 with 1 Axes>"
            ]
          },
          "metadata": {
            "needs_background": "light"
          }
        }
      ]
    },
    {
      "cell_type": "markdown",
      "metadata": {
        "id": "6R606WhZ9lGt"
      },
      "source": [
        "# Learning curve\n",
        "Compute the AUC by varying the number of training event. Testing set remains the same."
      ]
    },
    {
      "cell_type": "code",
      "metadata": {
        "colab": {
          "base_uri": "https://localhost:8080/",
          "height": 391
        },
        "id": "QW83YwCjG0U0",
        "outputId": "31d384bd-f9b1-45f5-e35f-78cf02354b81"
      },
      "source": [
        "#In principle could, use learning_curve in sklearn\n",
        "#However: it does not handle weights, it does not allow to control testing dataset size\n",
        "#from sklearn.model_selection import learning_curve\n",
        "#train_sizes,train_scores,test_scores=learning_curve(\n",
        "#     RandomForestClassifier(n_estimators=100),\n",
        "#     X_train,y_train,\n",
        "#     train_sizes=[0.01,0.05,0.1,0.2,0.5,0.75,1],                  \n",
        "#     scoring='roc_auc',cv=5)\n",
        "\n",
        "\n",
        "train_sizes=[0.01,0.05,0.1,0.2,0.5,0.75,1]\n",
        "ntrains=[]\n",
        "test_aucs=[]\n",
        "train_aucs=[]\n",
        "\n",
        "for train_size in train_sizes:\n",
        "  ntrain=int(len(X_train)*train_size)\n",
        "  print(\"training with \",ntrain,\" events\")\n",
        "  ntrains+=[ntrain]\n",
        "\n",
        "  tf.random.set_seed(1234) # to have reproducible networks\n",
        "  model = tf.keras.models.Sequential([\n",
        "    tf.keras.layers.Dense(128, activation='relu', input_shape=(X_train.shape[1],)), # 1st hidden layer\n",
        "    #tf.keras.layers.Dense(128, activation='relu'), # 2nd hidden layer\n",
        "    tf.keras.layers.Dense(1,activation=\"sigmoid\") # output layer\n",
        "    ])\n",
        "\n",
        "  model.compile(loss=\"binary_crossentropy\",\n",
        "                optimizer=\"adam\",\n",
        "                #metrics=['accuracy', keras.metrics.AUC(name=\"auc\")]) # if not using event weights\n",
        "                weighted_metrics=['accuracy', keras.metrics.AUC(name=\"auc\")])\n",
        "\n",
        "  # train using the first ntrain event of the training dataset\n",
        "  model.fit(X_train[:ntrain], y_train[:ntrain],\n",
        "            epochs=100, verbose=0,\n",
        "            #validation_split=0.2,   # to be used with train/test split\n",
        "            validation_data=(X_val, y_val, weights_val),\n",
        "            batch_size=1024,\n",
        "            sample_weight=weights_train[:ntrain].values,\n",
        "            callbacks=[keras.callbacks.EarlyStopping(patience=10, restore_best_weights=True)])\n",
        "\n",
        "  # score on test dataset (always the same)\n",
        "  y_pred_model=model.predict(X_test).reshape(-1)\n",
        "  auc_test_model = roc_auc_score(y_true=y_test, y_score=y_pred_model,sample_weight=weights_test)\n",
        "  test_aucs+=[auc_test_model]\n",
        "\n",
        "  # score on the train dataset \n",
        "  y_train_model=model.predict(X_train[:ntrain]).reshape(-1)\n",
        "  auc_train_model = roc_auc_score(y_true=y_train[:ntrain], y_score=y_train_model,sample_weight=weights_train[:ntrain])\n",
        "  train_aucs+=[auc_train_model]\n",
        "\n",
        "dflearning=pd.DataFrame({\"Ntraining\":ntrains,\n",
        "                         \"test_auc\":test_aucs,\n",
        "                         \"train_auc\":train_aucs})\n",
        "display(dflearning)"
      ],
      "execution_count": null,
      "outputs": [
        {
          "output_type": "stream",
          "text": [
            "training with  3464  events\n",
            "training with  17320  events\n",
            "training with  34641  events\n",
            "training with  69282  events\n",
            "training with  173206  events\n",
            "training with  259809  events\n",
            "training with  346413  events\n"
          ],
          "name": "stdout"
        },
        {
          "output_type": "display_data",
          "data": {
            "text/html": [
              "<div>\n",
              "<style scoped>\n",
              "    .dataframe tbody tr th:only-of-type {\n",
              "        vertical-align: middle;\n",
              "    }\n",
              "\n",
              "    .dataframe tbody tr th {\n",
              "        vertical-align: top;\n",
              "    }\n",
              "\n",
              "    .dataframe thead th {\n",
              "        text-align: right;\n",
              "    }\n",
              "</style>\n",
              "<table border=\"1\" class=\"dataframe\">\n",
              "  <thead>\n",
              "    <tr style=\"text-align: right;\">\n",
              "      <th></th>\n",
              "      <th>Ntraining</th>\n",
              "      <th>test_auc</th>\n",
              "      <th>train_auc</th>\n",
              "    </tr>\n",
              "  </thead>\n",
              "  <tbody>\n",
              "    <tr>\n",
              "      <th>0</th>\n",
              "      <td>3464</td>\n",
              "      <td>0.796731</td>\n",
              "      <td>0.826305</td>\n",
              "    </tr>\n",
              "    <tr>\n",
              "      <th>1</th>\n",
              "      <td>17320</td>\n",
              "      <td>0.818830</td>\n",
              "      <td>0.826795</td>\n",
              "    </tr>\n",
              "    <tr>\n",
              "      <th>2</th>\n",
              "      <td>34641</td>\n",
              "      <td>0.817989</td>\n",
              "      <td>0.824158</td>\n",
              "    </tr>\n",
              "    <tr>\n",
              "      <th>3</th>\n",
              "      <td>69282</td>\n",
              "      <td>0.810805</td>\n",
              "      <td>0.812909</td>\n",
              "    </tr>\n",
              "    <tr>\n",
              "      <th>4</th>\n",
              "      <td>173206</td>\n",
              "      <td>0.864533</td>\n",
              "      <td>0.866964</td>\n",
              "    </tr>\n",
              "    <tr>\n",
              "      <th>5</th>\n",
              "      <td>259809</td>\n",
              "      <td>0.865876</td>\n",
              "      <td>0.867231</td>\n",
              "    </tr>\n",
              "    <tr>\n",
              "      <th>6</th>\n",
              "      <td>346413</td>\n",
              "      <td>0.864138</td>\n",
              "      <td>0.864985</td>\n",
              "    </tr>\n",
              "  </tbody>\n",
              "</table>\n",
              "</div>"
            ],
            "text/plain": [
              "   Ntraining  test_auc  train_auc\n",
              "0       3464  0.796731   0.826305\n",
              "1      17320  0.818830   0.826795\n",
              "2      34641  0.817989   0.824158\n",
              "3      69282  0.810805   0.812909\n",
              "4     173206  0.864533   0.866964\n",
              "5     259809  0.865876   0.867231\n",
              "6     346413  0.864138   0.864985"
            ]
          },
          "metadata": {}
        }
      ]
    },
    {
      "cell_type": "code",
      "metadata": {
        "id": "97YZy7DdFCw9",
        "colab": {
          "base_uri": "https://localhost:8080/",
          "height": 298
        },
        "outputId": "b46a9ef6-ffd5-4842-b025-9a3b3733ae4d"
      },
      "source": [
        "ax=dflearning.plot.scatter(\"Ntraining\",\"test_auc\",label=\"test\")\n",
        "dflearning.plot.scatter(\"Ntraining\",\"train_auc\",label=\"train\",color=\"r\",ax=ax)"
      ],
      "execution_count": null,
      "outputs": [
        {
          "output_type": "execute_result",
          "data": {
            "text/plain": [
              "<matplotlib.axes._subplots.AxesSubplot at 0x7f5c5d89c450>"
            ]
          },
          "metadata": {},
          "execution_count": 62
        },
        {
          "output_type": "display_data",
          "data": {
            "image/png": "[encoded data removed]",
            "text/plain": [
              "<Figure size 432x288 with 1 Axes>"
            ]
          },
          "metadata": {
            "needs_background": "light"
          }
        }
      ]
    },
    {
      "cell_type": "markdown",
      "source": [
        "# Model conversion from XGBoost to ONNX (to be fixed)\n"
      ],
      "metadata": {
        "id": "d7NZ-ZUyzSyd"
      }
    },
    {
      "cell_type": "code",
      "source": [
        "!pip install skl2onnx onnxmltools\n",
        "from skl2onnx import convert_sklearn, update_registered_converter\n",
        "from skl2onnx.common.data_types import FloatTensorType\n",
        "from skl2onnx.common.shape_calculator import calculate_linear_classifier_output_shapes\n",
        "from onnxmltools.convert.xgboost.operator_converters.XGBoost import convert_xgboost\n",
        "#from onnxmltools.convert import convert_xgboost as convert_xgboost_booster"
      ],
      "metadata": {
        "colab": {
          "base_uri": "https://localhost:8080/"
        },
        "id": "V-Y0kcEXzlOl",
        "outputId": "ad1d47bb-fa70-428a-e0fa-bff6ab60bafc"
      },
      "execution_count": null,
      "outputs": [
        {
          "output_type": "stream",
          "name": "stdout",
          "text": [
            "Requirement already satisfied: skl2onnx in /usr/local/lib/python3.7/dist-packages (1.11.1)\n",
            "Collecting onnxmltools\n",
            "  Downloading onnxmltools-1.10.0-py2.py3-none-any.whl (300 kB)\n",
            "\u001b[K     |████████████████████████████████| 300 kB 7.2 MB/s \n",
            "\u001b[?25hRequirement already satisfied: scipy>=1.0 in /usr/local/lib/python3.7/dist-packages (from skl2onnx) (1.4.1)\n",
            "Requirement already satisfied: protobuf in /usr/local/lib/python3.7/dist-packages (from skl2onnx) (3.17.3)\n",
            "Requirement already satisfied: scikit-learn>=0.19 in /usr/local/lib/python3.7/dist-packages (from skl2onnx) (1.0.2)\n",
            "Requirement already satisfied: numpy>=1.15 in /usr/local/lib/python3.7/dist-packages (from skl2onnx) (1.21.5)\n",
            "Requirement already satisfied: onnx>=1.2.1 in /usr/local/lib/python3.7/dist-packages (from skl2onnx) (1.11.0)\n",
            "Requirement already satisfied: onnxconverter-common>=1.7.0 in /usr/local/lib/python3.7/dist-packages (from skl2onnx) (1.9.0)\n",
            "Requirement already satisfied: typing-extensions>=3.6.2.1 in /usr/local/lib/python3.7/dist-packages (from onnx>=1.2.1->skl2onnx) (3.10.0.2)\n",
            "Requirement already satisfied: six>=1.9 in /usr/local/lib/python3.7/dist-packages (from protobuf->skl2onnx) (1.15.0)\n",
            "Requirement already satisfied: threadpoolctl>=2.0.0 in /usr/local/lib/python3.7/dist-packages (from scikit-learn>=0.19->skl2onnx) (3.1.0)\n",
            "Requirement already satisfied: joblib>=0.11 in /usr/local/lib/python3.7/dist-packages (from scikit-learn>=0.19->skl2onnx) (1.1.0)\n",
            "Installing collected packages: onnxmltools\n",
            "Successfully installed onnxmltools-1.10.0\n"
          ]
        }
      ]
    },
    {
      "cell_type": "code",
      "source": [
        "update_registered_converter(\n",
        "    XGBClassifier, 'XGBoostXGBClassifier',\n",
        "    calculate_linear_classifier_output_shapes, convert_xgboost,\n",
        "    options={'nocl': [True, False], 'zipmap': [True, False, 'columns']})"
      ],
      "metadata": {
        "id": "p9GugMDe1oa8"
      },
      "execution_count": null,
      "outputs": []
    },
    {
      "cell_type": "code",
      "source": [
        "X_test.values"
      ],
      "metadata": {
        "colab": {
          "base_uri": "https://localhost:8080/"
        },
        "id": "Bs71A1w03_7U",
        "outputId": "0a95d12a-a6ec-4345-bc29-4dd4f55ceae2"
      },
      "execution_count": null,
      "outputs": [
        {
          "output_type": "execute_result",
          "data": {
            "text/plain": [
              "array([[-0.1362578 ,  0.86665251,  0.02508858, -0.05444248,  1.67018596,\n",
              "        -1.39623384],\n",
              "       [-0.07783699,  1.30600348, -0.49124578,  0.218963  ,  0.6723398 ,\n",
              "        -0.71439262],\n",
              "       [-0.37522089, -0.41543544, -0.09169988,  0.17476269,  1.41391879,\n",
              "         1.30101818],\n",
              "       ...,\n",
              "       [-0.66775242,  1.00083118, -0.33291626, -0.90773209, -1.09861489,\n",
              "         0.14798789],\n",
              "       [-0.17578215,  0.50170971,  0.10804866, -0.90832872, -1.16239178,\n",
              "        -1.52308289],\n",
              "       [ 0.07002129,  0.10438409, -0.54049951, -0.55685426, -1.06912843,\n",
              "         1.28893994]])"
            ]
          },
          "metadata": {},
          "execution_count": 66
        }
      ]
    },
    {
      "cell_type": "code",
      "source": [
        "initial_type = [('float_input', FloatTensorType([None, X_test.shape[1]]))]\n",
        "onnx_xgb = convert_sklearn(xgb, initial_types=initial_type)[0]"
      ],
      "metadata": {
        "colab": {
          "base_uri": "https://localhost:8080/",
          "height": 505
        },
        "outputId": "8ef563b0-0bd6-4c8c-9787-367aa97cb580",
        "id": "hN6hJ3bhzSyh"
      },
      "execution_count": null,
      "outputs": [
        {
          "output_type": "error",
          "ename": "RuntimeError",
          "evalue": "ignored",
          "traceback": [
            "\u001b[0;31m---------------------------------------------------------------------------\u001b[0m",
            "\u001b[0;31mValueError\u001b[0m                                Traceback (most recent call last)",
            "\u001b[0;32m/usr/local/lib/python3.7/dist-packages/onnxmltools/convert/xgboost/operator_converters/XGBoost.py\u001b[0m in \u001b[0;36m_add_node\u001b[0;34m(attr_pairs, is_classifier, tree_id, tree_weight, node_id, feature_id, mode, value, true_child_id, false_child_id, weights, weight_id_bias, missing, hitrate)\u001b[0m\n\u001b[1;32m     75\u001b[0m                 \u001b[0;32mtry\u001b[0m\u001b[0;34m:\u001b[0m\u001b[0;34m\u001b[0m\u001b[0;34m\u001b[0m\u001b[0m\n\u001b[0;32m---> 76\u001b[0;31m                     \u001b[0mfeature_id\u001b[0m \u001b[0;34m=\u001b[0m \u001b[0mint\u001b[0m\u001b[0;34m(\u001b[0m\u001b[0mfloat\u001b[0m\u001b[0;34m(\u001b[0m\u001b[0mfeature_id\u001b[0m\u001b[0;34m)\u001b[0m\u001b[0;34m)\u001b[0m\u001b[0;34m\u001b[0m\u001b[0;34m\u001b[0m\u001b[0m\n\u001b[0m\u001b[1;32m     77\u001b[0m                 \u001b[0;32mexcept\u001b[0m \u001b[0mValueError\u001b[0m\u001b[0;34m:\u001b[0m\u001b[0;34m\u001b[0m\u001b[0;34m\u001b[0m\u001b[0m\n",
            "\u001b[0;31mValueError\u001b[0m: could not convert string to float: 'lep_pt_1'",
            "\nDuring handling of the above exception, another exception occurred:\n",
            "\u001b[0;31mRuntimeError\u001b[0m                              Traceback (most recent call last)",
            "\u001b[0;32m<ipython-input-63-3f1016f38a82>\u001b[0m in \u001b[0;36m<module>\u001b[0;34m()\u001b[0m\n\u001b[1;32m      1\u001b[0m \u001b[0minitial_type\u001b[0m \u001b[0;34m=\u001b[0m \u001b[0;34m[\u001b[0m\u001b[0;34m(\u001b[0m\u001b[0;34m'float_input'\u001b[0m\u001b[0;34m,\u001b[0m \u001b[0mFloatTensorType\u001b[0m\u001b[0;34m(\u001b[0m\u001b[0;34m[\u001b[0m\u001b[0;32mNone\u001b[0m\u001b[0;34m,\u001b[0m \u001b[0mX_test\u001b[0m\u001b[0;34m.\u001b[0m\u001b[0mshape\u001b[0m\u001b[0;34m[\u001b[0m\u001b[0;36m1\u001b[0m\u001b[0;34m]\u001b[0m\u001b[0;34m]\u001b[0m\u001b[0;34m)\u001b[0m\u001b[0;34m)\u001b[0m\u001b[0;34m]\u001b[0m\u001b[0;34m\u001b[0m\u001b[0;34m\u001b[0m\u001b[0m\n\u001b[0;32m----> 2\u001b[0;31m \u001b[0monnx_xgb\u001b[0m \u001b[0;34m=\u001b[0m \u001b[0mconvert_sklearn\u001b[0m\u001b[0;34m(\u001b[0m\u001b[0mxgb\u001b[0m\u001b[0;34m,\u001b[0m \u001b[0minitial_types\u001b[0m\u001b[0;34m=\u001b[0m\u001b[0minitial_type\u001b[0m\u001b[0;34m)\u001b[0m\u001b[0;34m[\u001b[0m\u001b[0;36m0\u001b[0m\u001b[0;34m]\u001b[0m\u001b[0;34m\u001b[0m\u001b[0;34m\u001b[0m\u001b[0m\n\u001b[0m",
            "\u001b[0;32m/usr/local/lib/python3.7/dist-packages/skl2onnx/convert.py\u001b[0m in \u001b[0;36mconvert_sklearn\u001b[0;34m(model, name, initial_types, doc_string, target_opset, custom_conversion_functions, custom_shape_calculators, custom_parsers, options, intermediate, white_op, black_op, final_types, dtype, naming, verbose)\u001b[0m\n\u001b[1;32m    184\u001b[0m     onnx_model = convert_topology(\n\u001b[1;32m    185\u001b[0m         \u001b[0mtopology\u001b[0m\u001b[0;34m,\u001b[0m \u001b[0mname\u001b[0m\u001b[0;34m,\u001b[0m \u001b[0mdoc_string\u001b[0m\u001b[0;34m,\u001b[0m \u001b[0mtarget_opset\u001b[0m\u001b[0;34m,\u001b[0m \u001b[0moptions\u001b[0m\u001b[0;34m=\u001b[0m\u001b[0moptions\u001b[0m\u001b[0;34m,\u001b[0m\u001b[0;34m\u001b[0m\u001b[0;34m\u001b[0m\u001b[0m\n\u001b[0;32m--> 186\u001b[0;31m         remove_identity=not intermediate, verbose=verbose)\n\u001b[0m\u001b[1;32m    187\u001b[0m     \u001b[0;32mif\u001b[0m \u001b[0mverbose\u001b[0m \u001b[0;34m>=\u001b[0m \u001b[0;36m1\u001b[0m\u001b[0;34m:\u001b[0m\u001b[0;34m\u001b[0m\u001b[0;34m\u001b[0m\u001b[0m\n\u001b[1;32m    188\u001b[0m         \u001b[0mprint\u001b[0m\u001b[0;34m(\u001b[0m\u001b[0;34m\"[convert_sklearn] end\"\u001b[0m\u001b[0;34m)\u001b[0m\u001b[0;34m\u001b[0m\u001b[0;34m\u001b[0m\u001b[0m\n",
            "\u001b[0;32m/usr/local/lib/python3.7/dist-packages/skl2onnx/common/_topology.py\u001b[0m in \u001b[0;36mconvert_topology\u001b[0;34m(topology, model_name, doc_string, target_opset, channel_first_inputs, options, remove_identity, verbose)\u001b[0m\n\u001b[1;32m   1419\u001b[0m     \u001b[0;31m# Traverse the graph from roots to leaves\u001b[0m\u001b[0;34m\u001b[0m\u001b[0;34m\u001b[0m\u001b[0;34m\u001b[0m\u001b[0m\n\u001b[1;32m   1420\u001b[0m     \u001b[0;31m# This loop could eventually be parallelized.\u001b[0m\u001b[0;34m\u001b[0m\u001b[0;34m\u001b[0m\u001b[0;34m\u001b[0m\u001b[0m\n\u001b[0;32m-> 1421\u001b[0;31m     \u001b[0mtopology\u001b[0m\u001b[0;34m.\u001b[0m\u001b[0mconvert_operators\u001b[0m\u001b[0;34m(\u001b[0m\u001b[0mcontainer\u001b[0m\u001b[0;34m=\u001b[0m\u001b[0mcontainer\u001b[0m\u001b[0;34m,\u001b[0m \u001b[0mverbose\u001b[0m\u001b[0;34m=\u001b[0m\u001b[0mverbose\u001b[0m\u001b[0;34m)\u001b[0m\u001b[0;34m\u001b[0m\u001b[0;34m\u001b[0m\u001b[0m\n\u001b[0m\u001b[1;32m   1422\u001b[0m     \u001b[0mcontainer\u001b[0m\u001b[0;34m.\u001b[0m\u001b[0mensure_topological_order\u001b[0m\u001b[0;34m(\u001b[0m\u001b[0;34m)\u001b[0m\u001b[0;34m\u001b[0m\u001b[0;34m\u001b[0m\u001b[0m\n\u001b[1;32m   1423\u001b[0m \u001b[0;34m\u001b[0m\u001b[0m\n",
            "\u001b[0;32m/usr/local/lib/python3.7/dist-packages/skl2onnx/common/_topology.py\u001b[0m in \u001b[0;36mconvert_operators\u001b[0;34m(self, container, verbose)\u001b[0m\n\u001b[1;32m   1254\u001b[0m \u001b[0;34m\u001b[0m\u001b[0m\n\u001b[1;32m   1255\u001b[0m                     \u001b[0mself\u001b[0m\u001b[0;34m.\u001b[0m\u001b[0mcall_shape_calculator\u001b[0m\u001b[0;34m(\u001b[0m\u001b[0moperator\u001b[0m\u001b[0;34m)\u001b[0m\u001b[0;34m\u001b[0m\u001b[0;34m\u001b[0m\u001b[0m\n\u001b[0;32m-> 1256\u001b[0;31m                     \u001b[0mself\u001b[0m\u001b[0;34m.\u001b[0m\u001b[0mcall_converter\u001b[0m\u001b[0;34m(\u001b[0m\u001b[0moperator\u001b[0m\u001b[0;34m,\u001b[0m \u001b[0mcontainer\u001b[0m\u001b[0;34m,\u001b[0m \u001b[0mverbose\u001b[0m\u001b[0;34m=\u001b[0m\u001b[0mverbose\u001b[0m\u001b[0;34m)\u001b[0m\u001b[0;34m\u001b[0m\u001b[0;34m\u001b[0m\u001b[0m\n\u001b[0m\u001b[1;32m   1257\u001b[0m \u001b[0;34m\u001b[0m\u001b[0m\n\u001b[1;32m   1258\u001b[0m                     \u001b[0;31m# If an operator contains a sequence of operators,\u001b[0m\u001b[0;34m\u001b[0m\u001b[0;34m\u001b[0m\u001b[0;34m\u001b[0m\u001b[0m\n",
            "\u001b[0;32m/usr/local/lib/python3.7/dist-packages/skl2onnx/common/_topology.py\u001b[0m in \u001b[0;36mcall_converter\u001b[0;34m(self, operator, container, verbose)\u001b[0m\n\u001b[1;32m   1060\u001b[0m             \u001b[0;34m\"\"\u001b[0m\u001b[0;34m.\u001b[0m\u001b[0mjoin\u001b[0m\u001b[0;34m(\u001b[0m\u001b[0mstr\u001b[0m\u001b[0;34m(\u001b[0m\u001b[0mi\u001b[0m\u001b[0;34m.\u001b[0m\u001b[0mis_fed\u001b[0m\u001b[0;34m)\u001b[0m \u001b[0;32mfor\u001b[0m \u001b[0mi\u001b[0m \u001b[0;32min\u001b[0m \u001b[0moperator\u001b[0m\u001b[0;34m.\u001b[0m\u001b[0minputs\u001b[0m\u001b[0;34m)\u001b[0m\u001b[0;34m,\u001b[0m\u001b[0;34m\u001b[0m\u001b[0;34m\u001b[0m\u001b[0m\n\u001b[1;32m   1061\u001b[0m             \"\".join(str(i.is_fed) for i in operator.outputs))\n\u001b[0;32m-> 1062\u001b[0;31m         \u001b[0mconv\u001b[0m\u001b[0;34m(\u001b[0m\u001b[0mself\u001b[0m\u001b[0;34m.\u001b[0m\u001b[0mscopes\u001b[0m\u001b[0;34m[\u001b[0m\u001b[0;36m0\u001b[0m\u001b[0;34m]\u001b[0m\u001b[0;34m,\u001b[0m \u001b[0moperator\u001b[0m\u001b[0;34m,\u001b[0m \u001b[0mcontainer\u001b[0m\u001b[0;34m)\u001b[0m\u001b[0;34m\u001b[0m\u001b[0;34m\u001b[0m\u001b[0m\n\u001b[0m\u001b[1;32m   1063\u001b[0m         \u001b[0mlogger\u001b[0m\u001b[0;34m.\u001b[0m\u001b[0mdebug\u001b[0m\u001b[0;34m(\u001b[0m\u001b[0;34m\"[Conv] end - %r\"\u001b[0m\u001b[0;34m,\u001b[0m \u001b[0moperator\u001b[0m\u001b[0;34m)\u001b[0m\u001b[0;34m\u001b[0m\u001b[0;34m\u001b[0m\u001b[0m\n\u001b[1;32m   1064\u001b[0m \u001b[0;34m\u001b[0m\u001b[0m\n",
            "\u001b[0;32m/usr/local/lib/python3.7/dist-packages/skl2onnx/common/_registration.py\u001b[0m in \u001b[0;36m__call__\u001b[0;34m(self, *args)\u001b[0m\n\u001b[1;32m     24\u001b[0m             \u001b[0;32mif\u001b[0m \u001b[0margs\u001b[0m\u001b[0;34m[\u001b[0m\u001b[0;36m1\u001b[0m\u001b[0;34m]\u001b[0m\u001b[0;34m.\u001b[0m\u001b[0mraw_operator\u001b[0m \u001b[0;32mis\u001b[0m \u001b[0;32mnot\u001b[0m \u001b[0;32mNone\u001b[0m\u001b[0;34m:\u001b[0m\u001b[0;34m\u001b[0m\u001b[0;34m\u001b[0m\u001b[0m\n\u001b[1;32m     25\u001b[0m                 \u001b[0margs\u001b[0m\u001b[0;34m[\u001b[0m\u001b[0;36m2\u001b[0m\u001b[0;34m]\u001b[0m\u001b[0;34m.\u001b[0m\u001b[0m_get_allowed_options\u001b[0m\u001b[0;34m(\u001b[0m\u001b[0margs\u001b[0m\u001b[0;34m[\u001b[0m\u001b[0;36m1\u001b[0m\u001b[0;34m]\u001b[0m\u001b[0;34m.\u001b[0m\u001b[0mraw_operator\u001b[0m\u001b[0;34m)\u001b[0m\u001b[0;34m\u001b[0m\u001b[0;34m\u001b[0m\u001b[0m\n\u001b[0;32m---> 26\u001b[0;31m         \u001b[0;32mreturn\u001b[0m \u001b[0mself\u001b[0m\u001b[0;34m.\u001b[0m\u001b[0m_fct\u001b[0m\u001b[0;34m(\u001b[0m\u001b[0;34m*\u001b[0m\u001b[0margs\u001b[0m\u001b[0;34m)\u001b[0m\u001b[0;34m\u001b[0m\u001b[0;34m\u001b[0m\u001b[0m\n\u001b[0m\u001b[1;32m     27\u001b[0m \u001b[0;34m\u001b[0m\u001b[0m\n\u001b[1;32m     28\u001b[0m     \u001b[0;32mdef\u001b[0m \u001b[0mget_allowed_options\u001b[0m\u001b[0;34m(\u001b[0m\u001b[0mself\u001b[0m\u001b[0;34m)\u001b[0m\u001b[0;34m:\u001b[0m\u001b[0;34m\u001b[0m\u001b[0;34m\u001b[0m\u001b[0m\n",
            "\u001b[0;32m/usr/local/lib/python3.7/dist-packages/onnxmltools/convert/xgboost/operator_converters/XGBoost.py\u001b[0m in \u001b[0;36mconvert_xgboost\u001b[0;34m(scope, operator, container)\u001b[0m\n\u001b[1;32m    299\u001b[0m         \u001b[0mcls\u001b[0m \u001b[0;34m=\u001b[0m \u001b[0mXGBRegressorConverter\u001b[0m\u001b[0;34m\u001b[0m\u001b[0;34m\u001b[0m\u001b[0m\n\u001b[1;32m    300\u001b[0m     \u001b[0mcls\u001b[0m\u001b[0;34m.\u001b[0m\u001b[0mvalidate\u001b[0m\u001b[0;34m(\u001b[0m\u001b[0mxgb_node\u001b[0m\u001b[0;34m)\u001b[0m\u001b[0;34m\u001b[0m\u001b[0;34m\u001b[0m\u001b[0m\n\u001b[0;32m--> 301\u001b[0;31m     \u001b[0mcls\u001b[0m\u001b[0;34m.\u001b[0m\u001b[0mconvert\u001b[0m\u001b[0;34m(\u001b[0m\u001b[0mscope\u001b[0m\u001b[0;34m,\u001b[0m \u001b[0moperator\u001b[0m\u001b[0;34m,\u001b[0m \u001b[0mcontainer\u001b[0m\u001b[0;34m)\u001b[0m\u001b[0;34m\u001b[0m\u001b[0;34m\u001b[0m\u001b[0m\n\u001b[0m\u001b[1;32m    302\u001b[0m \u001b[0;34m\u001b[0m\u001b[0m\n\u001b[1;32m    303\u001b[0m \u001b[0;34m\u001b[0m\u001b[0m\n",
            "\u001b[0;32m/usr/local/lib/python3.7/dist-packages/onnxmltools/convert/xgboost/operator_converters/XGBoost.py\u001b[0m in \u001b[0;36mconvert\u001b[0;34m(scope, operator, container)\u001b[0m\n\u001b[1;32m    228\u001b[0m         \u001b[0mparams\u001b[0m \u001b[0;34m=\u001b[0m \u001b[0mXGBConverter\u001b[0m\u001b[0;34m.\u001b[0m\u001b[0mget_xgb_params\u001b[0m\u001b[0;34m(\u001b[0m\u001b[0mxgb_node\u001b[0m\u001b[0;34m)\u001b[0m\u001b[0;34m\u001b[0m\u001b[0;34m\u001b[0m\u001b[0m\n\u001b[1;32m    229\u001b[0m         \u001b[0mattr_pairs\u001b[0m \u001b[0;34m=\u001b[0m \u001b[0mXGBClassifierConverter\u001b[0m\u001b[0;34m.\u001b[0m\u001b[0m_get_default_tree_attribute_pairs\u001b[0m\u001b[0;34m(\u001b[0m\u001b[0;34m)\u001b[0m\u001b[0;34m\u001b[0m\u001b[0;34m\u001b[0m\u001b[0m\n\u001b[0;32m--> 230\u001b[0;31m         \u001b[0mXGBConverter\u001b[0m\u001b[0;34m.\u001b[0m\u001b[0mfill_tree_attributes\u001b[0m\u001b[0;34m(\u001b[0m\u001b[0mjs_trees\u001b[0m\u001b[0;34m,\u001b[0m \u001b[0mattr_pairs\u001b[0m\u001b[0;34m,\u001b[0m \u001b[0;34m[\u001b[0m\u001b[0;36m1\u001b[0m \u001b[0;32mfor\u001b[0m \u001b[0m_\u001b[0m \u001b[0;32min\u001b[0m \u001b[0mjs_trees\u001b[0m\u001b[0;34m]\u001b[0m\u001b[0;34m,\u001b[0m \u001b[0;32mTrue\u001b[0m\u001b[0;34m)\u001b[0m\u001b[0;34m\u001b[0m\u001b[0;34m\u001b[0m\u001b[0m\n\u001b[0m\u001b[1;32m    231\u001b[0m         \u001b[0mncl\u001b[0m \u001b[0;34m=\u001b[0m \u001b[0;34m(\u001b[0m\u001b[0mmax\u001b[0m\u001b[0;34m(\u001b[0m\u001b[0mattr_pairs\u001b[0m\u001b[0;34m[\u001b[0m\u001b[0;34m'class_treeids'\u001b[0m\u001b[0;34m]\u001b[0m\u001b[0;34m)\u001b[0m \u001b[0;34m+\u001b[0m \u001b[0;36m1\u001b[0m\u001b[0;34m)\u001b[0m \u001b[0;34m//\u001b[0m \u001b[0mparams\u001b[0m\u001b[0;34m[\u001b[0m\u001b[0;34m'n_estimators'\u001b[0m\u001b[0;34m]\u001b[0m\u001b[0;34m\u001b[0m\u001b[0;34m\u001b[0m\u001b[0m\n\u001b[1;32m    232\u001b[0m \u001b[0;34m\u001b[0m\u001b[0m\n",
            "\u001b[0;32m/usr/local/lib/python3.7/dist-packages/onnxmltools/convert/xgboost/operator_converters/XGBoost.py\u001b[0m in \u001b[0;36mfill_tree_attributes\u001b[0;34m(js_xgb_node, attr_pairs, tree_weights, is_classifier)\u001b[0m\n\u001b[1;32m    160\u001b[0m         \u001b[0;32mfor\u001b[0m \u001b[0mtreeid\u001b[0m\u001b[0;34m,\u001b[0m \u001b[0;34m(\u001b[0m\u001b[0mjstree\u001b[0m\u001b[0;34m,\u001b[0m \u001b[0mw\u001b[0m\u001b[0;34m)\u001b[0m \u001b[0;32min\u001b[0m \u001b[0menumerate\u001b[0m\u001b[0;34m(\u001b[0m\u001b[0mzip\u001b[0m\u001b[0;34m(\u001b[0m\u001b[0mjs_xgb_node\u001b[0m\u001b[0;34m,\u001b[0m \u001b[0mtree_weights\u001b[0m\u001b[0;34m)\u001b[0m\u001b[0;34m)\u001b[0m\u001b[0;34m:\u001b[0m\u001b[0;34m\u001b[0m\u001b[0;34m\u001b[0m\u001b[0m\n\u001b[1;32m    161\u001b[0m             \u001b[0mremap\u001b[0m \u001b[0;34m=\u001b[0m \u001b[0mXGBConverter\u001b[0m\u001b[0;34m.\u001b[0m\u001b[0m_remap_nodeid\u001b[0m\u001b[0;34m(\u001b[0m\u001b[0mjstree\u001b[0m\u001b[0;34m)\u001b[0m\u001b[0;34m\u001b[0m\u001b[0;34m\u001b[0m\u001b[0m\n\u001b[0;32m--> 162\u001b[0;31m             \u001b[0mXGBConverter\u001b[0m\u001b[0;34m.\u001b[0m\u001b[0m_fill_node_attributes\u001b[0m\u001b[0;34m(\u001b[0m\u001b[0mtreeid\u001b[0m\u001b[0;34m,\u001b[0m \u001b[0mw\u001b[0m\u001b[0;34m,\u001b[0m \u001b[0mjstree\u001b[0m\u001b[0;34m,\u001b[0m \u001b[0mattr_pairs\u001b[0m\u001b[0;34m,\u001b[0m \u001b[0mis_classifier\u001b[0m\u001b[0;34m,\u001b[0m \u001b[0mremap\u001b[0m\u001b[0;34m)\u001b[0m\u001b[0;34m\u001b[0m\u001b[0;34m\u001b[0m\u001b[0m\n\u001b[0m\u001b[1;32m    163\u001b[0m \u001b[0;34m\u001b[0m\u001b[0m\n\u001b[1;32m    164\u001b[0m \u001b[0;34m\u001b[0m\u001b[0m\n",
            "\u001b[0;32m/usr/local/lib/python3.7/dist-packages/onnxmltools/convert/xgboost/operator_converters/XGBoost.py\u001b[0m in \u001b[0;36m_fill_node_attributes\u001b[0;34m(treeid, tree_weight, jsnode, attr_pairs, is_classifier, remap)\u001b[0m\n\u001b[1;32m    124\u001b[0m                         \u001b[0mweights\u001b[0m\u001b[0;34m=\u001b[0m\u001b[0;32mNone\u001b[0m\u001b[0;34m,\u001b[0m \u001b[0mweight_id_bias\u001b[0m\u001b[0;34m=\u001b[0m\u001b[0;32mNone\u001b[0m\u001b[0;34m,\u001b[0m\u001b[0;34m\u001b[0m\u001b[0;34m\u001b[0m\u001b[0m\n\u001b[1;32m    125\u001b[0m                         \u001b[0mmissing\u001b[0m\u001b[0;34m=\u001b[0m\u001b[0mjsnode\u001b[0m\u001b[0;34m.\u001b[0m\u001b[0mget\u001b[0m\u001b[0;34m(\u001b[0m\u001b[0;34m'missing'\u001b[0m\u001b[0;34m,\u001b[0m \u001b[0;34m-\u001b[0m\u001b[0;36m1\u001b[0m\u001b[0;34m)\u001b[0m \u001b[0;34m==\u001b[0m \u001b[0mjsnode\u001b[0m\u001b[0;34m[\u001b[0m\u001b[0;34m'yes'\u001b[0m\u001b[0;34m]\u001b[0m\u001b[0;34m,\u001b[0m \u001b[0;31m# ['children'][0]['nodeid'],\u001b[0m\u001b[0;34m\u001b[0m\u001b[0;34m\u001b[0m\u001b[0m\n\u001b[0;32m--> 126\u001b[0;31m                         hitrate=jsnode.get('cover', 0))\n\u001b[0m\u001b[1;32m    127\u001b[0m \u001b[0;34m\u001b[0m\u001b[0m\n\u001b[1;32m    128\u001b[0m             \u001b[0;32mfor\u001b[0m \u001b[0mch\u001b[0m \u001b[0;32min\u001b[0m \u001b[0mjsnode\u001b[0m\u001b[0;34m[\u001b[0m\u001b[0;34m'children'\u001b[0m\u001b[0;34m]\u001b[0m\u001b[0;34m:\u001b[0m\u001b[0;34m\u001b[0m\u001b[0;34m\u001b[0m\u001b[0m\n",
            "\u001b[0;32m/usr/local/lib/python3.7/dist-packages/onnxmltools/convert/xgboost/operator_converters/XGBoost.py\u001b[0m in \u001b[0;36m_add_node\u001b[0;34m(attr_pairs, is_classifier, tree_id, tree_weight, node_id, feature_id, mode, value, true_child_id, false_child_id, weights, weight_id_bias, missing, hitrate)\u001b[0m\n\u001b[1;32m     79\u001b[0m                         \u001b[0;34m\"Unable to interpret '{0}', feature \"\u001b[0m\u001b[0;34m\u001b[0m\u001b[0;34m\u001b[0m\u001b[0m\n\u001b[1;32m     80\u001b[0m                         \"names should follow pattern 'f%d'.\".format(\n\u001b[0;32m---> 81\u001b[0;31m                             feature_id))\n\u001b[0m\u001b[1;32m     82\u001b[0m \u001b[0;34m\u001b[0m\u001b[0m\n\u001b[1;32m     83\u001b[0m         \u001b[0;31m# Split condition for sklearn\u001b[0m\u001b[0;34m\u001b[0m\u001b[0;34m\u001b[0m\u001b[0;34m\u001b[0m\u001b[0m\n",
            "\u001b[0;31mRuntimeError\u001b[0m: Unable to interpret 'lep_pt_1', feature names should follow pattern 'f%d'."
          ]
        }
      ]
    },
    {
      "cell_type": "code",
      "source": [
        "import onnx\n",
        "onnx.save(onnx_model,'onnx_model.onnx')\n",
        "!ls -rtl"
      ],
      "metadata": {
        "id": "S8bXHrpQzSyi"
      },
      "execution_count": null,
      "outputs": []
    },
    {
      "cell_type": "code",
      "source": [
        "!pip install onnxruntime\n",
        "import onnxruntime as ort\n",
        "sess = ort.InferenceSession('onnx_model.onnx', providers = ['CPUExecutionProvider'])"
      ],
      "metadata": {
        "id": "XyaSUHWFzSyk"
      },
      "execution_count": null,
      "outputs": []
    },
    {
      "cell_type": "code",
      "source": [
        "input_name = sess.get_inputs()[0].name\n",
        "output_names = [n.name for n in onnx_model.graph.output]\n",
        "print(input_name)\n",
        "print(output_names)"
      ],
      "metadata": {
        "id": "ww3cnTVLzSym"
      },
      "execution_count": null,
      "outputs": []
    },
    {
      "cell_type": "code",
      "source": [
        "pred_onnx = sess.run(output_names,{input_name: X_test.values.astype(np.float32)})[0]\n",
        "print(pred_onnx[:5].reshape(-1))\n",
        "print(y_pred_model[:5])"
      ],
      "metadata": {
        "id": "z_Wakz-2zSyn"
      },
      "execution_count": null,
      "outputs": []
    },
    {
      "cell_type": "code",
      "source": [
        "try:\n",
        "  np.testing.assert_allclose(\n",
        "    y_pred_model, pred_onnx.reshape(-1),\n",
        "    rtol=1e-3, atol=0\n",
        "  )\n",
        "  print(\"Predictions from original and ONNX models are identical\")\n",
        "except AssertionError:\n",
        "  print(\"Error: predictions from original and ONNX models are different\")\n"
      ],
      "metadata": {
        "id": "Pm-jk9odzSyo"
      },
      "execution_count": null,
      "outputs": []
    }
  ]
}