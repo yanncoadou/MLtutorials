{
  "nbformat": 4,
  "nbformat_minor": 0,
  "metadata": {
    "colab": {
      "name": "ML_installation_checks.ipynb",
      "private_outputs": true,
      "provenance": [],
      "toc_visible": true,
      "include_colab_link": true
    },
    "kernelspec": {
      "name": "python3",
      "display_name": "Python 3"
    },
    "language_info": {
      "name": "python"
    }
  },
  "cells": [
    {
      "cell_type": "markdown",
      "metadata": {
        "id": "view-in-github",
        "colab_type": "text"
      },
      "source": [
        "<a href=\"https://colab.research.google.com/github/yanncoadou/MLtutorials/blob/IPhU2022/ML_installation_checks.ipynb\" target=\"_parent\"><img src=\"https://colab.research.google.com/assets/colab-badge.svg\" alt=\"Open In Colab\"/></a>"
      ]
    },
    {
      "cell_type": "markdown",
      "metadata": {
        "id": "EWS53qjRIYdq"
      },
      "source": [
        "<h1>Machine learning software installation checks</h1>\n",
        "\n",
        "Welcome! You have successfully downloaded this notebook from GitHub.\n",
        "\n",
        "Most comments below are meant for using this notebook in Google Colaboratory, but it should be possible to run it locally, for instance with an [anaconda](https://docs.anaconda.com/anaconda/install/) installation.\n",
        "\n",
        "\n",
        "In order to be able to edit and save the notebook, we advise you to use your personal Google Drive account. Choose the \"File\" menu in the menu bar of this page and select the \"save a copy in Drive\" sub item:\n",
        "\n",
        "<img style=\"display: block; margin-left: auto; margin-right: auto; width: 50%;\" alt=\"Save\" width=\"30%\" src=\"https://raw.githubusercontent.com/yanncoadou/MLtutorials/main/Save_a_copy_in_GDrive.png\" >\n",
        "\n",
        "Once you have done this, if you change anything to this notebook, you can save it for later access. You will have to follow this same procedure during the practice session.\n",
        "\n",
        "If you are not familiar with Google Colaboratory, we recommend you read [this](https://colab.research.google.com/notebooks/welcome.ipynb) to get familiar with the environment and the interface.\n",
        "\n",
        "You will find below technical checks to perform before joining the practice sessions. Given versions of software are for Colab. If not running on Colab, make sure to have the same revision or a more recent one."
      ]
    },
    {
      "cell_type": "markdown",
      "metadata": {
        "id": "ObTRUYtdaQgd"
      },
      "source": [
        "# **Installation checks**"
      ]
    },
    {
      "cell_type": "markdown",
      "metadata": {
        "id": "klYPTMzOy4X5"
      },
      "source": [
        "## scikit-learn"
      ]
    },
    {
      "cell_type": "code",
      "metadata": {
        "id": "ca8r7zHDy4X8"
      },
      "source": [
        "try:\n",
        "  import sklearn\n",
        "except ImportError as e:\n",
        "  !pip install sklearn\n",
        "  import sklearn\n",
        "print (sklearn.__version__)  # preinstalled version 1.0.2 20220330"
      ],
      "execution_count": null,
      "outputs": []
    },
    {
      "cell_type": "markdown",
      "metadata": {
        "id": "eyUjhIysjuW0"
      },
      "source": [
        "## tensorflow if not on Colab"
      ]
    },
    {
      "cell_type": "code",
      "metadata": {
        "id": "oHTEjoPvZNvq"
      },
      "source": [
        "try:\n",
        "  import tensorflow as tf\n",
        "except ImportError as e:\n",
        "  !pip install tensorflow\n",
        "  import tensorflow as tf\n",
        "print (tf.__version__)  # preinstalled version 2.8.0 20220330"
      ],
      "execution_count": null,
      "outputs": []
    },
    {
      "cell_type": "markdown",
      "metadata": {
        "id": "qnOE-0N_fdIx"
      },
      "source": [
        "## XGBoost"
      ]
    },
    {
      "cell_type": "code",
      "metadata": {
        "id": "KgqAzaX_W_uK"
      },
      "source": [
        "# preinstalled version 0.9.0 20220330\n",
        "!pip install xgboost --upgrade # install 1.5.2 20220330\n",
        "import xgboost as xgb\n",
        "print(xgb.__version__)"
      ],
      "execution_count": null,
      "outputs": []
    },
    {
      "cell_type": "markdown",
      "metadata": {
        "id": "lVR4ywDEim1Q"
      },
      "source": [
        "## LightGBM"
      ]
    },
    {
      "cell_type": "code",
      "metadata": {
        "id": "5J8XlCk0X6xj"
      },
      "source": [
        "# preinstalled version 2.2.3 20220330\n",
        "!pip install lightgbm --upgrade # install 3.3.2 20220330\n",
        "import lightgbm as lgb\n",
        "print (lgb.__version__)"
      ],
      "execution_count": null,
      "outputs": []
    },
    {
      "cell_type": "markdown",
      "metadata": {
        "id": "GvLySceMI4cT"
      },
      "source": [
        "## CatBoost"
      ]
    },
    {
      "cell_type": "code",
      "metadata": {
        "id": "f1PUtBnUI4cZ"
      },
      "source": [
        "# not preinstalled 20220330\n",
        "!pip install catboost # install 1.0.4 20220330\n",
        "import catboost\n",
        "print (catboost.__version__)"
      ],
      "execution_count": null,
      "outputs": []
    },
    {
      "cell_type": "markdown",
      "metadata": {
        "id": "d5fvIVZd-a1W"
      },
      "source": [
        "## Enabling and testing the GPU\n",
        "(largely copied from https://colab.research.google.com/notebooks/gpu.ipynb)\n",
        "\n",
        "On COLAB, you can enable GPUs for the notebook:\n",
        "- Navigate to Edit→Notebook Settings\n",
        "- select GPU from the Hardware Accelerator drop-down\n",
        "\n",
        "Note the warning when activating GPU: *To get the most out of Colab, avoid using a GPU unless you need one.*"
      ]
    },
    {
      "cell_type": "code",
      "metadata": {
        "id": "JafgGtQg_qXe"
      },
      "source": [
        "try:\n",
        "  import google.colab\n",
        "  COLAB = True # if running in COLAB\n",
        "except:\n",
        "  COLAB = False # if not running on COLAB\n",
        "GPU=False # if using GPU (can be True on COLAB and possibly Linux)\n",
        "if (tf.test.gpu_device_name()):\n",
        "  GPU=True\n",
        "print('You are running on Colab:',COLAB)\n",
        "print('You are running with GPU:',GPU)"
      ],
      "execution_count": null,
      "outputs": []
    },
    {
      "cell_type": "code",
      "metadata": {
        "id": "MR7W1IYk_2rr"
      },
      "source": [
        "if COLAB: \n",
        "    # Display available and used memory.\n",
        "    !free -h\n",
        "    print(\"-\"*70)\n",
        "    # Display the CPU specification.\n",
        "    !lscpu\n",
        "    print(\"-\"*70)\n",
        "    # Display the GPU specification (if available).\n",
        "    if GPU:\n",
        "      !(nvidia-smi | grep -q \"has failed\") && echo \"No GPU found!\" || nvidia-smi"
      ],
      "execution_count": null,
      "outputs": []
    },
    {
      "cell_type": "code",
      "metadata": {
        "id": "XJ8e8kb1FFhv"
      },
      "source": [
        "import tensorflow as tf\n",
        "import timeit\n",
        "\n",
        "device_name = tf.test.gpu_device_name()\n",
        "if device_name != '/device:GPU:0':\n",
        "  if GPU:\n",
        "        raise SystemError('GPU device not found')\n",
        "\n",
        "def cpu():\n",
        "  with tf.device('/cpu:0'):\n",
        "    random_image_cpu = tf.random.normal((100, 100, 100, 3))\n",
        "    net_cpu = tf.keras.layers.Conv2D(32, 7)(random_image_cpu)\n",
        "    return tf.math.reduce_sum(net_cpu)\n",
        "\n",
        "def gpu():\n",
        "  with tf.device('/device:GPU:0'):\n",
        "    random_image_gpu = tf.random.normal((100, 100, 100, 3))\n",
        "    net_gpu = tf.keras.layers.Conv2D(32, 7)(random_image_gpu)\n",
        "    return tf.math.reduce_sum(net_gpu)\n",
        "  \n",
        "# We run each op once to warm up; see: https://stackoverflow.com/a/45067900\n",
        "cpu()\n",
        "if GPU:\n",
        "    gpu()\n",
        "\n",
        "# Run the op several times.\n",
        "from datetime import datetime\n",
        "print (datetime.now())\n",
        "print('Time (s) to convolve 32x7x7x3 filter over random 100x100x100x3 images '\n",
        "      '(batch x height x width x channel). Sum of ten runs.')\n",
        "print('CPU (s):')\n",
        "cpu_time = timeit.timeit('cpu()', number=10, setup=\"from __main__ import cpu\")\n",
        "print(cpu_time)\n",
        "if GPU:\n",
        "  print('GPU (s):')\n",
        "  gpu_time = timeit.timeit('gpu()', number=10, setup=\"from __main__ import gpu\")\n",
        "  print(gpu_time)\n",
        "  print('GPU speedup over CPU: {}x'.format(int(cpu_time/gpu_time)))"
      ],
      "execution_count": null,
      "outputs": []
    },
    {
      "cell_type": "markdown",
      "metadata": {
        "id": "N0TmE1VLlxyG"
      },
      "source": [
        "## Input dataset\n",
        "\n",
        "Setting up access to data files on Google Drive"
      ]
    },
    {
      "cell_type": "code",
      "source": [
        "if COLAB:\n",
        "    #### Reading files from Google Drive\n",
        "    # Need a Google account to be identified\n",
        "    #!pip install PyDrive\n",
        "    import os\n",
        "    from pydrive.auth import GoogleAuth\n",
        "    from pydrive.drive import GoogleDrive\n",
        "    from google.colab import auth\n",
        "    from oauth2client.client import GoogleCredentials\n",
        "    auth.authenticate_user()\n",
        "    gauth = GoogleAuth()\n",
        "    gauth.credentials = GoogleCredentials.get_application_default()\n",
        "    drive = GoogleDrive(gauth)"
      ],
      "metadata": {
        "id": "Ijca7NbPbZT5"
      },
      "execution_count": null,
      "outputs": []
    },
    {
      "cell_type": "code",
      "source": [
        "import os\n",
        "datapath=\"\"\n",
        "if not os.path.isfile(\"dataWW_d1_600k.csv.gz\"):\n",
        "  if COLAB:\n",
        "    #attach dataset from google drive \n",
        "    download = drive.CreateFile({'id': '1nlXp7P-xq_jip4aPE0j0mnPhYnIOcBv4'})\n",
        "    download.GetContentFile(\"dataWW_d1_600k.csv.gz\")\n",
        "    !ls -lrt\n",
        "  else :\n",
        "    # Make sure the file is available locally. \n",
        "    # Should be downloaded from https://drive.google.com/uc?id=1nlXp7P-xq_jip4aPE0j0mnPhYnIOcBv4\n",
        "    !ls -lrt # what is in the local directory\n",
        "    datapath=\"/directory/where/you/stored/dataWW_d1_600k.csv.gz\"\n",
        "    !ls -lrt {datapath} # what is in the data directory\n",
        "    datapath=os.path.abspath(datapath).replace(\"\\ \", \" \")  # try to normalise the path (annoyance with the space)\n",
        "    print (\"Will take data from : \",datapath)\n",
        "filename=os.path.join(datapath,\"dataWW_d1_600k.csv.gz\")\n",
        "!ls -l {filename}"
      ],
      "metadata": {
        "id": "ewhjG986btCg"
      },
      "execution_count": null,
      "outputs": []
    },
    {
      "cell_type": "markdown",
      "metadata": {
        "id": "Otcknpr2yVTL"
      },
      "source": [
        "***If everything worked fine up to here, you are all set for the ML hands-on session.***"
      ]
    }
  ]
}
