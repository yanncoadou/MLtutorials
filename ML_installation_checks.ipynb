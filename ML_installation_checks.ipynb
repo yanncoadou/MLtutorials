{
  "nbformat": 4,
  "nbformat_minor": 0,
  "metadata": {
    "colab": {
      "name": "ML_installation_checks.ipynb",
      "private_outputs": true,
      "provenance": [],
      "toc_visible": true,
      "authorship_tag": "ABX9TyOSh7utsUGMJe0vHRjSvUCG",
      "include_colab_link": true
    },
    "kernelspec": {
      "name": "python3",
      "display_name": "Python 3"
    },
    "language_info": {
      "name": "python"
    }
  },
  "cells": [
    {
      "cell_type": "markdown",
      "metadata": {
        "id": "view-in-github",
        "colab_type": "text"
      },
      "source": [
        "<a href=\"https://colab.research.google.com/github/yanncoadou/MLtutorials/blob/main/ML_installation_checks.ipynb\" target=\"_parent\"><img src=\"https://colab.research.google.com/assets/colab-badge.svg\" alt=\"Open In Colab\"/></a>"
      ]
    },
    {
      "cell_type": "markdown",
      "metadata": {
        "id": "EWS53qjRIYdq"
      },
      "source": [
        "<h1>Machine learning software installation checks</h1>\n",
        "\n",
        "Welcome! You have successfully downloaded this notebook from GitHub.\n",
        "\n",
        "In order to be able to edit and save a notebook, we advise you to use your personal Google Drive account. Choose the \"File\" menu in the menu bar of this page and select the \"save a copy in Drive\" sub item:\n",
        "\n",
        "<img style=\"display: block; margin-left: auto; margin-right: auto; width: 50%;\" alt=\"Save\" width=\"30%\" src=\"https://raw.githubusercontent.com/yanncoadou/MLtutorials/main/Save_a_copy_in_GDrive.png\" >\n",
        "\n",
        "Once you have done this, if you change anything to this notebook, you can save it for later access. You will have to follow this same procedure during the practice session.\n",
        "\n",
        "If you are not familiar with Google Colaboratory, we recommend you read [this](https://colab.research.google.com/notebooks/welcome.ipynb) to get familiar with the environment and the interface.\n",
        "\n",
        "You will find below technical checks to perform before joining the practice sessions. Given versions of software are for Colab. If not running on Colab, make sure to have the same revision or a more recent one."
      ]
    },
    {
      "cell_type": "markdown",
      "metadata": {
        "id": "ObTRUYtdaQgd"
      },
      "source": [
        "# **Installation checks**"
      ]
    },
    {
      "cell_type": "markdown",
      "metadata": {
        "id": "klYPTMzOy4X5"
      },
      "source": [
        "## scikit-learn"
      ]
    },
    {
      "cell_type": "code",
      "metadata": {
        "id": "ca8r7zHDy4X8"
      },
      "source": [
        "try:\n",
        "  import sklearn\n",
        "except ImportError as e:\n",
        "  !pip install sklearn\n",
        "  import sklearn\n",
        "print (sklearn.__version__)  # preinstalled version 1.0.1 20211119"
      ],
      "execution_count": null,
      "outputs": []
    },
    {
      "cell_type": "markdown",
      "metadata": {
        "id": "eyUjhIysjuW0"
      },
      "source": [
        "## tensorflow if not on Colab"
      ]
    },
    {
      "cell_type": "code",
      "metadata": {
        "id": "oHTEjoPvZNvq"
      },
      "source": [
        "try:\n",
        "  import tensorflow as tf\n",
        "except ImportError as e:\n",
        "  !pip install tensorflow\n",
        "  import tensorflow as tf\n",
        "print (tf.__version__)  # preinstalled version 2.7.0 20211119"
      ],
      "execution_count": null,
      "outputs": []
    },
    {
      "cell_type": "markdown",
      "metadata": {
        "id": "qnOE-0N_fdIx"
      },
      "source": [
        "## XGBoost"
      ]
    },
    {
      "cell_type": "code",
      "metadata": {
        "id": "KgqAzaX_W_uK"
      },
      "source": [
        "# preinstalled version 0.9.0 20211119\n",
        "!pip install xgboost --upgrade # install 1.5.0 20211119\n",
        "import xgboost as xgb\n",
        "print(xgb.__version__)"
      ],
      "execution_count": null,
      "outputs": []
    },
    {
      "cell_type": "markdown",
      "metadata": {
        "id": "lVR4ywDEim1Q"
      },
      "source": [
        "## LightGBM"
      ]
    },
    {
      "cell_type": "code",
      "metadata": {
        "id": "5J8XlCk0X6xj"
      },
      "source": [
        "# preinstalled version 2.2.3 20211119\n",
        "!pip install lightgbm --upgrade # install 3.3.1 20211119\n",
        "import lightgbm as lgb\n",
        "print (lgb.__version__)"
      ],
      "execution_count": null,
      "outputs": []
    },
    {
      "cell_type": "markdown",
      "metadata": {
        "id": "d5fvIVZd-a1W"
      },
      "source": [
        "## Enabling and testing the GPU\n",
        "(largely copied from https://colab.research.google.com/notebooks/gpu.ipynb)\n",
        "\n",
        "On COLAB only, you'll need to enable GPUs for the notebook:\n",
        "- Navigate to Edit→Notebook Settings\n",
        "- select GPU from the Hardware Accelerator drop-down\n",
        "\n",
        "Note the warning when activating GPU: *To get the most out of Colab, avoid using a GPU unless you need one.*"
      ]
    },
    {
      "cell_type": "code",
      "metadata": {
        "id": "JafgGtQg_qXe"
      },
      "source": [
        "COLAB=True # if running in COLAB\n",
        "#COLAB=False # if not running on COLAB\n",
        "GPU=True # if using GPU (can be True on COLAB and possibly Linux)\n",
        "#GPU=False # no GPU on Mac and possibly Linux"
      ],
      "execution_count": null,
      "outputs": []
    },
    {
      "cell_type": "code",
      "metadata": {
        "id": "MR7W1IYk_2rr"
      },
      "source": [
        "if COLAB: \n",
        "    # Display available and used memory.\n",
        "    !free -h\n",
        "    print(\"-\"*70)\n",
        "    # Display the CPU specification.\n",
        "    !lscpu\n",
        "    print(\"-\"*70)\n",
        "    # Display the GPU specification (if available).\n",
        "    if GPU:\n",
        "      !(nvidia-smi | grep -q \"has failed\") && echo \"No GPU found!\" || nvidia-smi"
      ],
      "execution_count": null,
      "outputs": []
    },
    {
      "cell_type": "code",
      "metadata": {
        "id": "XJ8e8kb1FFhv"
      },
      "source": [
        "import tensorflow as tf\n",
        "import timeit\n",
        "\n",
        "device_name = tf.test.gpu_device_name()\n",
        "if device_name != '/device:GPU:0':\n",
        "  if GPU:\n",
        "        raise SystemError('GPU device not found')\n",
        "\n",
        "def cpu():\n",
        "  with tf.device('/cpu:0'):\n",
        "    random_image_cpu = tf.random.normal((100, 100, 100, 3))\n",
        "    net_cpu = tf.keras.layers.Conv2D(32, 7)(random_image_cpu)\n",
        "    return tf.math.reduce_sum(net_cpu)\n",
        "\n",
        "def gpu():\n",
        "  with tf.device('/device:GPU:0'):\n",
        "    random_image_gpu = tf.random.normal((100, 100, 100, 3))\n",
        "    net_gpu = tf.keras.layers.Conv2D(32, 7)(random_image_gpu)\n",
        "    return tf.math.reduce_sum(net_gpu)\n",
        "  \n",
        "# We run each op once to warm up; see: https://stackoverflow.com/a/45067900\n",
        "cpu()\n",
        "if GPU:\n",
        "    gpu()\n",
        "\n",
        "# Run the op several times.\n",
        "from datetime import datetime\n",
        "print (datetime.now())\n",
        "print('Time (s) to convolve 32x7x7x3 filter over random 100x100x100x3 images '\n",
        "      '(batch x height x width x channel). Sum of ten runs.')\n",
        "print('CPU (s):')\n",
        "cpu_time = timeit.timeit('cpu()', number=10, setup=\"from __main__ import cpu\")\n",
        "print(cpu_time)\n",
        "if GPU:\n",
        "  print('GPU (s):')\n",
        "  gpu_time = timeit.timeit('gpu()', number=10, setup=\"from __main__ import gpu\")\n",
        "  print(gpu_time)\n",
        "  print('GPU speedup over CPU: {}x'.format(int(cpu_time/gpu_time)))"
      ],
      "execution_count": null,
      "outputs": []
    },
    {
      "cell_type": "markdown",
      "metadata": {
        "id": "N0TmE1VLlxyG"
      },
      "source": [
        "## Input dataset"
      ]
    },
    {
      "cell_type": "code",
      "metadata": {
        "id": "ROMhtcGHZLbc"
      },
      "source": [
        "import os\n",
        "if not os.path.isfile(\"dataWW_d1_600k.csv.gz\"):\n",
        "  try:\n",
        "    import gdown\n",
        "  except ImportError as e:\n",
        "    !pip install gdown\n",
        "    import gdown\n",
        "  !gdown https://drive.google.com/uc?id=1nlXp7P-xq_jip4aPE0j0mnPhYnIOcBv4\n",
        "!ls -lrt"
      ],
      "execution_count": null,
      "outputs": []
    },
    {
      "cell_type": "markdown",
      "metadata": {
        "id": "Otcknpr2yVTL"
      },
      "source": [
        "***If everything worked fine up to here, you are all set for the hands-on session.***"
      ]
    }
  ]
}